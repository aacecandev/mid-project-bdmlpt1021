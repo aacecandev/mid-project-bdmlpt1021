{
 "cells": [
  {
   "cell_type": "code",
   "execution_count": 1,
   "id": "459d5c20-7a81-488f-a850-56aacb46f485",
   "metadata": {},
   "outputs": [],
   "source": [
    "import pandas as pd\n",
    "import numpy as np\n",
    "import re\n",
    "import requests"
   ]
  },
  {
   "cell_type": "code",
   "execution_count": 2,
   "id": "0b9602ad-3c7c-46aa-a2b1-bafd1faeaaf2",
   "metadata": {},
   "outputs": [],
   "source": [
    "vac = requests.get(\"https://raw.githubusercontent.com/owid/covid-19-data/master/public/data/vaccinations/vaccinations-by-age-group.csv\")"
   ]
  },
  {
   "cell_type": "code",
   "execution_count": null,
   "id": "28a0ed47-04de-4bcc-a9c3-ab6847f89a74",
   "metadata": {},
   "outputs": [],
   "source": [
    "url_content = res.content\n",
    "csv_file = open('covid-confirmed-global/vaccinations-by-age-group.csv', 'wb')\n",
    "csv_file.write(url_content)\n",
    "csv_file.close()"
   ]
  }
 ],
 "metadata": {
  "kernelspec": {
   "display_name": "Python 3 (ipykernel)",
   "language": "python",
   "name": "python3"
  },
  "language_info": {
   "codemirror_mode": {
    "name": "ipython",
    "version": 3
   },
   "file_extension": ".py",
   "mimetype": "text/x-python",
   "name": "python",
   "nbconvert_exporter": "python",
   "pygments_lexer": "ipython3",
   "version": "3.9.7"
  }
 },
 "nbformat": 4,
 "nbformat_minor": 5
}
